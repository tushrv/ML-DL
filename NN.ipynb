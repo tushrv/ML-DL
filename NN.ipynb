{
 "cells": [
  {
   "cell_type": "code",
   "execution_count": 4,
   "id": "3b262f3d-c8e1-4b60-9462-808e9de12dde",
   "metadata": {},
   "outputs": [],
   "source": [
    "import numpy as np\n"
   ]
  },
  {
   "cell_type": "code",
   "execution_count": 1,
   "id": "dfcc1f35-8815-41a3-9e3c-fff8c76fd33c",
   "metadata": {},
   "outputs": [],
   "source": [
    "#simple neuron with activation function\n",
    "\n",
    "# output = sum(inputs*weights) + bias\n",
    "# output = activation(output)"
   ]
  },
  {
   "cell_type": "markdown",
   "id": "b85b3e3b-e444-436b-93ef-8c042ab63f57",
   "metadata": {},
   "source": [
    "## What is a Neural Network?\n",
    "\n",
    "Imagine a network of interconnected nodes, each representing a neuron. These neurons process information, much like the neurons in your brain. This network is called a neural network. Neural networks are used to solve complex problems, from recognizing images to predicting stock prices.\n",
    "\n",
    "## How Does a Neural Network Work?\n",
    "\n",
    "**Input Layer**: This is where the data to be processed enters the network. Each input is represented as a numerical value.\n",
    "\n",
    "**Hidden Layers**: These layers process the input data. They apply mathematical operations to the input values and pass the results to the next layer.\n",
    "\n",
    "**Output Layer**: This is where the final result is produced. It provides the network's prediction or classification.\n",
    "\n",
    "## Training a Neural Network\n",
    "\n",
    "Training is the process of teaching a neural network to perform a specific task. It involves feeding the network with a large amount of data and adjusting the weights and biases of the neurons to improve its accuracy.\n",
    "\n",
    "**Weights and Biases**: Each connection between neurons has a weight, which determines the importance of that connection. Biases are added to the input values before they are passed to the next layer. \n",
    "\n",
    "**Activation Function**: This function determines whether a neuron should fire or not based on the weighted sum of its inputs. Common activation functions include ReLU (Rectified Linear Unit) and sigmoid.\n",
    "\n",
    "**Loss Function**: This measures how well the network is performing. A lower loss indicates better accuracy.\n",
    "\n",
    "**Optimization Algorithm**: This algorithm adjusts the weights and biases to minimize the loss. The most common optimization algorithm is gradient descent.\n",
    "\n",
    "## The Training Process\n",
    "\n",
    "**Forward Propagation**: The input data is passed through the network, and the output is calculated.\n",
    "\n",
    "**Backward Propagation**: The error between the predicted output and the actual output is calculated. This error is then used to adjust the weights and biases in a process called backpropagation.\n",
    "\n",
    "**Update Weights and Biases**: The optimization algorithm calculates the gradient of the loss function with respect to the weights and biases. These gradients are used to update the weights and biases.\n",
    "\n",
    "**Repeat**: This process is repeated many times until the network reaches a desired level of accuracy."
   ]
  },
  {
   "cell_type": "markdown",
   "id": "22f07c9b-400a-4b03-8f88-67145cf7735a",
   "metadata": {},
   "source": [
    "## Helper Functions"
   ]
  },
  {
   "cell_type": "code",
   "execution_count": 2,
   "id": "67ee6501-82ed-4dcc-bf59-1d5e144ba960",
   "metadata": {},
   "outputs": [],
   "source": [
    "def generate_random_input_vector(length):\n",
    "    inputs = np.random.rand(length)\n",
    "    \n",
    "    return inputs\n",
    "def generate_random_params(length,weight_range=(-1, 1), bias_range=(-5, 5)):\n",
    "    weights = np.random.uniform(weight_range[0], weight_range[1], length)\n",
    "    bias = np.random.uniform(bias_range[0], bias_range[1])\n",
    "    \n",
    "    return weights, bias"
   ]
  },
  {
   "cell_type": "code",
   "execution_count": 5,
   "id": "d9a1ca28-5d40-4b96-9e4a-728a50b9bba4",
   "metadata": {},
   "outputs": [
    {
     "data": {
      "text/plain": [
       "(array([-0.93240311,  0.31281732, -0.1608999 ,  0.15988797]),\n",
       " -2.428855568761923)"
      ]
     },
     "execution_count": 5,
     "metadata": {},
     "output_type": "execute_result"
    }
   ],
   "source": [
    "weights,bias = generate_random_params(4)\n",
    "weights,bias"
   ]
  },
  {
   "cell_type": "markdown",
   "id": "cf0a62b1-06cf-48ba-8eb7-a15c6bd1291a",
   "metadata": {},
   "source": [
    "# Single Neuron"
   ]
  },
  {
   "cell_type": "code",
   "execution_count": 6,
   "id": "24b699e6-2c9b-48d9-a2f6-e196e13e44e8",
   "metadata": {},
   "outputs": [],
   "source": [
    "def neuron(inputs, weights, bias):\n",
    "  \"\"\"\n",
    "  Calculates the output of a single neuron.\n",
    "\n",
    "  Args:\n",
    "    inputs: A numpy array of inputs.\n",
    "    weights: A numpy array of weights corresponding to each input.\n",
    "    bias: A scalar value representing the bias.\n",
    "    \n",
    "  Returns:\n",
    "    The output of the neuron.\n",
    "  \"\"\"\n",
    "\n",
    "  weighted_sum = np.dot(inputs, weights) + bias\n",
    "  output = weighted_sum\n",
    "  return output"
   ]
  },
  {
   "cell_type": "code",
   "execution_count": 7,
   "id": "47530c42-04f1-4a25-9ad6-0a1cd5a108be",
   "metadata": {},
   "outputs": [
    {
     "data": {
      "text/plain": [
       "np.float64(-0.047257349702220314)"
      ]
     },
     "execution_count": 7,
     "metadata": {},
     "output_type": "execute_result"
    }
   ],
   "source": [
    "w,b = generate_random_params(3)\n",
    "neuron( generate_random_input_vector(3),w,b)"
   ]
  },
  {
   "cell_type": "code",
   "execution_count": 8,
   "id": "30229f6f-4c63-428f-b4f1-b530c1fbc6c0",
   "metadata": {},
   "outputs": [
    {
     "data": {
      "text/plain": [
       "np.float64(-0.02309912762354005)"
      ]
     },
     "execution_count": 8,
     "metadata": {},
     "output_type": "execute_result"
    }
   ],
   "source": [
    "w,b = generate_random_params(4)\n",
    "neuron( generate_random_input_vector(4),w,b)"
   ]
  },
  {
   "cell_type": "markdown",
   "id": "ebd4c156-9ee9-4374-a871-b00922eb330a",
   "metadata": {},
   "source": [
    "## What is the Dot Product?\n",
    "\n",
    "The dot product is a mathematical operation that takes two vectors and returns a single scalar value.\n",
    "\n",
    "A · B = a1 * b1 + a2 * b2 + ... + an * bn\n",
    "\n",
    "A and B are vectors.\n",
    "\n",
    "a1, a2, ..., an are the components of vector A.\n",
    "\n",
    "b1, b2, ..., bn are the components of vector B.\n",
    "\n",
    "## In the context of a neural network:\n",
    "\n",
    "The inputs and weights are vectors.\n",
    "\n",
    "The dot product calculates the weighted sum of the inputs.\n",
    "\n",
    "This weighted sum is then passed through an activation function to determine the neuron's output."
   ]
  },
  {
   "cell_type": "code",
   "execution_count": 9,
   "id": "cf1b4844-2db2-4090-9cf0-1e8164552606",
   "metadata": {},
   "outputs": [
    {
     "data": {
      "text/plain": [
       "np.int64(32)"
      ]
     },
     "execution_count": 9,
     "metadata": {},
     "output_type": "execute_result"
    }
   ],
   "source": [
    "A = [1, 2, 3]\n",
    "B = [4, 5, 6]\n",
    "np.dot(A,B)"
   ]
  },
  {
   "cell_type": "markdown",
   "id": "04228263-e55a-4e01-84d9-42a6615e8a63",
   "metadata": {},
   "source": [
    "# Neuron Layers in Neural Networks "
   ]
  },
  {
   "cell_type": "code",
   "execution_count": 10,
   "id": "b4159643-ea2e-4bd6-89de-c0dfff9771a3",
   "metadata": {},
   "outputs": [
    {
     "data": {
      "text/plain": [
       "(array([0.67947127, 0.71661151, 0.12424381, 0.13604316]),\n",
       " [(array([ 0.1160307 ,  0.86644763, -0.74810781,  0.40526927]),\n",
       "   2.0344883254991046),\n",
       "  (array([-0.83937474,  0.23796124, -0.84990908, -0.9290584 ]),\n",
       "   -4.8905376637716955),\n",
       "  (array([ 0.73751633, -0.79971109, -0.83526118, -0.39737423]),\n",
       "   4.948388332598533),\n",
       "  (array([-0.01197941, -0.7773529 , -0.31042767,  0.40960166]),\n",
       "   -1.3430100528957265)])"
      ]
     },
     "execution_count": 10,
     "metadata": {},
     "output_type": "execute_result"
    }
   ],
   "source": [
    "# single layer 3 neuron and 4 inputs\n",
    "\n",
    "inputs = generate_random_input_vector(4)\n",
    "params = [generate_random_params(4) for _ in range(4)]\n",
    "inputs,params"
   ]
  },
  {
   "cell_type": "code",
   "execution_count": 11,
   "id": "1008dc4f-df9d-4e2b-9cc1-cfadd96d7d07",
   "metadata": {},
   "outputs": [
    {
     "data": {
      "text/plain": [
       "(array([ 0.1160307 ,  0.86644763, -0.74810781,  0.40526927]),\n",
       " 2.0344883254991046)"
      ]
     },
     "execution_count": 11,
     "metadata": {},
     "output_type": "execute_result"
    }
   ],
   "source": [
    "w,b = params[0]\n",
    "w,b"
   ]
  },
  {
   "cell_type": "code",
   "execution_count": 12,
   "id": "cd702ef1-02f4-4a08-a1fc-27a8dfb50fb3",
   "metadata": {},
   "outputs": [
    {
     "data": {
      "text/plain": [
       "[np.float64(2.6964205406356148),\n",
       " np.float64(-5.522330901687275),\n",
       " np.float64(4.718591237633688),\n",
       " np.float64(-1.8910549740079563)]"
      ]
     },
     "execution_count": 12,
     "metadata": {},
     "output_type": "execute_result"
    }
   ],
   "source": [
    "outputs = list()\n",
    "for weight, bias in params:\n",
    "    outputs.append(neuron(inputs,weight,bias))\n",
    "outputs"
   ]
  },
  {
   "cell_type": "markdown",
   "id": "60001d2d-e75c-4d61-acbb-79e124667eca",
   "metadata": {},
   "source": [
    "# Tensors"
   ]
  },
  {
   "cell_type": "markdown",
   "id": "ff99c927-8430-4685-a7cc-d108aa7db0f3",
   "metadata": {},
   "source": [
    "## LINK https://medium.com/@tusharverma692/pytorch-fundamentals-c4fbd83ebe27"
   ]
  },
  {
   "cell_type": "markdown",
   "id": "72571e62-8adf-4702-91cc-abad672af596",
   "metadata": {},
   "source": [
    "## Dot Product Between Matrices\n",
    "\n",
    "**Result**: A matrix.\n",
    "\n",
    "**Operation**: Each element of the resulting matrix is calculated by taking the dot product of a row from the first matrix with a column from the second matrix.\n",
    "\n",
    "\n",
    "**Conditions**: The number of columns in the first matrix must equal the number of rows in the second matrix.   \n",
    "\n",
    "**Example**: For matrices A (m x n) and B (n x p), the resulting matrix C (m x p) is calculated as follows:\n",
    "\n",
    "C[i, j] = A[i, 1] * B[1, j] + A[i, 2] * B[2, j] + ... + A[i, n] * B[n, j]"
   ]
  },
  {
   "cell_type": "code",
   "execution_count": 13,
   "id": "e3cb7d49-6815-4a37-8e56-8171aec07ba5",
   "metadata": {},
   "outputs": [],
   "source": [
    "def matrix_dot_product(matrix1, matrix2):\n",
    "  \"\"\"\n",
    "  Calculates the dot product of two matrices.\n",
    "\n",
    "  Args:\n",
    "    matrix1: A NumPy array representing the first matrix.\n",
    "    matrix2: A NumPy array representing the second matrix.\n",
    "\n",
    "  Returns:\n",
    "    The dot product of the two matrices.\n",
    "  \"\"\"\n",
    "\n",
    "  if matrix1.shape[1] != matrix2.shape[0]:\n",
    "    raise ValueError(\"Incompatible matrix dimensions for dot product.\")\n",
    "\n",
    "  result = np.zeros((matrix1.shape[0], matrix2.shape[1]))\n",
    "  for i in range(matrix1.shape[0]):\n",
    "    for j in range(matrix2.shape[1]):\n",
    "      result[i, j] = np.dot(matrix1[i, :], matrix2[:, j])\n",
    "\n",
    "  return result\n",
    "\n",
    "def create_random_matrix(rows, columns):\n",
    "  \"\"\"\n",
    "  Creates a random matrix with specified dimensions.\n",
    "\n",
    "  Args:\n",
    "    rows: The number of rows in the matrix.\n",
    "    columns: The number of columns in the matrix.\n",
    "\n",
    "  Returns:\n",
    "    A NumPy array representing the random matrix.\n",
    "  \"\"\"\n",
    "\n",
    "  return np.random.rand(rows, columns)"
   ]
  },
  {
   "cell_type": "code",
   "execution_count": 14,
   "id": "92f45bac-c196-40f7-91a1-1e86b8dfd044",
   "metadata": {},
   "outputs": [
    {
     "data": {
      "text/plain": [
       "array([[0.62955147, 0.90705171, 0.29759482, 0.20797882],\n",
       "       [0.01020655, 0.1876635 , 0.64373493, 0.71021768],\n",
       "       [0.46529694, 0.8057437 , 0.88048229, 0.48342912]])"
      ]
     },
     "execution_count": 14,
     "metadata": {},
     "output_type": "execute_result"
    }
   ],
   "source": [
    "matrix1 = create_random_matrix(3,4)\n",
    "matrix1"
   ]
  },
  {
   "cell_type": "code",
   "execution_count": 15,
   "id": "92246127-8a7f-4dfa-ab91-aaec06a32adc",
   "metadata": {},
   "outputs": [
    {
     "data": {
      "text/plain": [
       "array([[0.2338471 , 0.92863384, 0.42681373],\n",
       "       [0.89451538, 0.67070312, 0.88479244],\n",
       "       [0.39662809, 0.67557502, 0.82947202]])"
      ]
     },
     "execution_count": 15,
     "metadata": {},
     "output_type": "execute_result"
    }
   ],
   "source": [
    "matrix2 = create_random_matrix(3,3)\n",
    "matrix2"
   ]
  },
  {
   "cell_type": "code",
   "execution_count": 16,
   "id": "66bc884d-3619-4639-baed-fe596a11cb59",
   "metadata": {},
   "outputs": [],
   "source": [
    "# This will throw error because of dimension mismatch\n",
    "# matrix_dot_product(matrix1,matrix2) "
   ]
  },
  {
   "cell_type": "code",
   "execution_count": 17,
   "id": "2587a614-9f1e-4b04-b1d3-4a0fdc636878",
   "metadata": {},
   "outputs": [
    {
     "data": {
      "text/plain": [
       "array([[0.34089853, 0.90581135, 0.66368268],\n",
       "       [0.69955988, 1.51252573, 1.22152722],\n",
       "       [0.99464649, 1.30294349, 1.42692478],\n",
       "       [0.87567745, 0.99607403, 1.11815438]])"
      ]
     },
     "execution_count": 17,
     "metadata": {},
     "output_type": "execute_result"
    }
   ],
   "source": [
    "matrix_dot_product(matrix1.T,matrix2)"
   ]
  },
  {
   "cell_type": "code",
   "execution_count": 18,
   "id": "e3a76df8-b43b-455c-9212-936b17a993f6",
   "metadata": {},
   "outputs": [
    {
     "data": {
      "text/plain": [
       "array([[0.35529205, 0.73028456, 1.04318766, 0.9145016 ],\n",
       "       [0.98168025, 1.65015414, 1.47700225, 1.0901199 ],\n",
       "       [0.64254388, 1.15488482, 1.28326113, 0.9632865 ]])"
      ]
     },
     "execution_count": 18,
     "metadata": {},
     "output_type": "execute_result"
    }
   ],
   "source": [
    "matrix_dot_product(matrix2,matrix1)"
   ]
  },
  {
   "cell_type": "code",
   "execution_count": 19,
   "id": "b806ad51-e225-48e0-a41e-fde9f88d0319",
   "metadata": {},
   "outputs": [
    {
     "data": {
      "text/plain": [
       "(array([[0.74265073, 0.49334414, 0.56424922, 0.03329533],\n",
       "        [0.77109644, 0.29265733, 0.96639946, 0.57891273],\n",
       "        [0.7974586 , 0.02165567, 0.57576203, 0.94349899]]),\n",
       " array([[0.54297053, 0.90283674, 0.48776282, 0.43648371],\n",
       "        [0.26653503, 0.29118687, 0.41097949, 0.13342462],\n",
       "        [0.9573252 , 0.41328022, 0.13706194, 0.27486432]]),\n",
       " array([0.36797966, 0.77317116, 0.9601683 ]))"
      ]
     },
     "execution_count": 19,
     "metadata": {},
     "output_type": "execute_result"
    }
   ],
   "source": [
    "inputs = create_random_matrix(3,4)\n",
    "weights = create_random_matrix(3,4)\n",
    "bias = create_random_matrix(1,3)[0]\n",
    "inputs,weights,bias"
   ]
  },
  {
   "cell_type": "code",
   "execution_count": 20,
   "id": "79849aab-d492-44ce-8231-e453bfd852a6",
   "metadata": {},
   "outputs": [
    {
     "data": {
      "text/plain": [
       "array([[1.50637899, 1.35110621, 1.96150472],\n",
       "       [1.7749438 , 1.53832492, 2.11088688],\n",
       "       [1.51318497, 1.35454005, 2.07079465]])"
      ]
     },
     "execution_count": 20,
     "metadata": {},
     "output_type": "execute_result"
    }
   ],
   "source": [
    "neuron(inputs,weights.T,bias)"
   ]
  },
  {
   "cell_type": "code",
   "execution_count": 21,
   "id": "3fd15fc0-b4a3-47dd-8ae1-edc91b1e5edc",
   "metadata": {},
   "outputs": [],
   "source": [
    "import matplotlib.pyplot as plt"
   ]
  },
  {
   "cell_type": "code",
   "execution_count": 22,
   "id": "819da3bb-67ec-4f42-882c-16169e806174",
   "metadata": {},
   "outputs": [
    {
     "data": {
      "image/png": "[encoded data removed]",
      "text/plain": [
       "<Figure size 640x480 with 1 Axes>"
      ]
     },
     "metadata": {},
     "output_type": "display_data"
    }
   ],
   "source": [
    "#  generating synthetic data\n",
    "\n",
    "N = 100 # number of points per class\n",
    "D = 2 # dimensionality\n",
    "K = 3 # number of classes\n",
    "X = np.zeros((N*K,D)) # data matrix (each row = single example)\n",
    "y = np.zeros(N*K, dtype='uint8') # class labels\n",
    "for j in range(K):\n",
    "  ix = range(N*j,N*(j+1))\n",
    "  r = np.linspace(0.0,1,N) # radius\n",
    "  t = np.linspace(j*4,(j+1)*4,N) + np.random.randn(N)*0.2 # theta\n",
    "  X[ix] = np.c_[r*np.sin(t), r*np.cos(t)]\n",
    "  y[ix] = j\n",
    "# lets visualize the data:\n",
    "plt.scatter(X[:, 0], X[:, 1], c=y, s=40, cmap=plt.cm.Spectral)\n",
    "plt.show()"
   ]
  },
  {
   "cell_type": "code",
   "execution_count": 23,
   "id": "232dda0b-ee7d-4e90-9bef-dc714a01825f",
   "metadata": {},
   "outputs": [
    {
     "data": {
      "text/plain": [
       "(array([[-0.        ,  0.        ],\n",
       "        [ 0.00022391,  0.01009853],\n",
       "        [ 0.00413587,  0.01977413],\n",
       "        [ 0.01055033,  0.02840712],\n",
       "        [-0.00025619,  0.04040323]]),\n",
       " array([0, 0, 0, 0, 0], dtype=uint8),\n",
       " {np.uint8(0), np.uint8(1), np.uint8(2)},\n",
       " 2)"
      ]
     },
     "execution_count": 23,
     "metadata": {},
     "output_type": "execute_result"
    }
   ],
   "source": [
    "X[:5],y[:5],set(y),len(X[0])"
   ]
  },
  {
   "cell_type": "code",
   "execution_count": 28,
   "id": "26c38ce1-0b78-444b-9114-5b61a0ba3601",
   "metadata": {},
   "outputs": [],
   "source": [
    "import numpy as np\n",
    "\n",
    "class Dense:\n",
    "    def __init__(self, input_size, output_size, activation_function=None):\n",
    "        \"\"\"\n",
    "        Initializes a Dense layer in a neural network.\n",
    "\n",
    "        Args:\n",
    "            input_size (int): The number of neurons in the input layer.\n",
    "            output_size (int): The number of neurons in the output layer.\n",
    "            activation_function (function, optional): The activation function to apply to the layer's output.\n",
    "                If None, no activation is applied.\n",
    "        \"\"\"\n",
    "        self.input_size = input_size\n",
    "        self.output_size = output_size\n",
    "        self.activation_function = activation_function\n",
    "\n",
    "        # Initialize weights and biases with random values from a standard normal distribution\n",
    "        self.weights = 0.01*np.random.randn(input_size, output_size)\n",
    "        self.biases = np.zeros((1, output_size))\n",
    "\n",
    "    def forward(self, inputs):\n",
    "        \"\"\"\n",
    "        Computes the forward pass of the layer.\n",
    "\n",
    "        Args:\n",
    "            inputs (numpy.ndarray): The input data to the layer.\n",
    "\n",
    "        Returns:\n",
    "            numpy.ndarray: The output of the layer.\n",
    "        \"\"\"\n",
    "        self.inputs = inputs\n",
    "        self.outputs = np.dot(inputs, self.weights) + self.biases\n",
    "\n",
    "        if self.activation_function is not None:\n",
    "            self.outputs = self.activation_function(self.outputs)\n",
    "\n",
    "        return self.outputs\n",
    "\n",
    "\n",
    "# Add ReLU activation function\n",
    "def relu(x):\n",
    "    return np.maximum(0, x)\n",
    "\n",
    "def relu_derivative(x):\n",
    "    return np.where(x > 0, 1, 0)"
   ]
  },
  {
   "cell_type": "code",
   "execution_count": 29,
   "id": "89c48115-e3bb-4ce6-952a-f4b20cffbeb4",
   "metadata": {},
   "outputs": [],
   "source": [
    "dense1= Dense(len(X[0]),len(set(y)))"
   ]
  },
  {
   "cell_type": "code",
   "execution_count": 30,
   "id": "f39a5a1a-510f-4c97-8cd8-28d418635303",
   "metadata": {},
   "outputs": [
    {
     "name": "stdout",
     "output_type": "stream",
     "text": [
      "[[ 0.00000000e+00  0.00000000e+00  0.00000000e+00]\n",
      " [-1.26313384e-04 -4.18883464e-05 -1.04958512e-04]\n",
      " [-2.47998448e-04 -1.11937396e-04 -2.27373344e-04]\n",
      " [-3.57094323e-04 -1.98095858e-04 -3.53878310e-04]\n",
      " [-5.05161394e-04 -1.58270509e-04 -4.13120312e-04]]\n"
     ]
    }
   ],
   "source": [
    "dense1.forward(X)\n",
    "print(dense1.outputs[:5])"
   ]
  },
  {
   "cell_type": "code",
   "execution_count": 31,
   "id": "a107a1b7-643d-4378-86e3-b08dd5857328",
   "metadata": {},
   "outputs": [
    {
     "data": {
      "text/plain": [
       "array([[0., 0., 0.],\n",
       "       [0., 0., 0.],\n",
       "       [0., 0., 0.],\n",
       "       [0., 0., 0.],\n",
       "       [0., 0., 0.]])"
      ]
     },
     "execution_count": 31,
     "metadata": {},
     "output_type": "execute_result"
    }
   ],
   "source": [
    "relu(dense1.outputs[:5])"
   ]
  },
  {
   "cell_type": "code",
   "execution_count": null,
   "id": "2733221c-a70c-44ab-af09-5bacef6fc79b",
   "metadata": {},
   "outputs": [],
   "source": []
  },
  {
   "cell_type": "code",
   "execution_count": 32,
   "id": "d960b258-64f4-43e7-ae45-338f06f7c83b",
   "metadata": {},
   "outputs": [
    {
     "name": "stdout",
     "output_type": "stream",
     "text": [
      "[[0.00000000e+00 0.00000000e+00 0.00000000e+00]\n",
      " [1.36056929e-04 1.65251219e-04 8.45615853e-05]\n",
      " [3.31468737e-04 3.26974028e-04 1.33774067e-04]\n",
      " [5.57269396e-04 4.73952751e-04 1.52529033e-04]\n",
      " [5.24081820e-04 6.60097094e-04 3.48233065e-04]]\n"
     ]
    }
   ],
   "source": [
    "dense2= Dense(input_size=len(X[0]),output_size=len(set(y)),activation_function=relu)\n",
    "dense2.forward(X)\n",
    "print(dense2.outputs[:5])"
   ]
  },
  {
   "cell_type": "code",
   "execution_count": null,
   "id": "9f6b6d2c-d05a-433e-b2f6-cc00f2fd16ff",
   "metadata": {},
   "outputs": [],
   "source": []
  }
 ],
 "metadata": {
  "kernelspec": {
   "display_name": "Python 3 (ipykernel)",
   "language": "python",
   "name": "python3"
  },
  "language_info": {
   "codemirror_mode": {
    "name": "ipython",
    "version": 3
   },
   "file_extension": ".py",
   "mimetype": "text/x-python",
   "name": "python",
   "nbconvert_exporter": "python",
   "pygments_lexer": "ipython3",
   "version": "3.10.12"
  }
 },
 "nbformat": 4,
 "nbformat_minor": 5
}
